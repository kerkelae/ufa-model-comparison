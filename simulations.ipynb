{
 "cells": [
  {
   "cell_type": "markdown",
   "metadata": {
    "id": "APmn0RPrIX16"
   },
   "source": [
    "# Set up"
   ]
  },
  {
   "cell_type": "code",
   "execution_count": 1,
   "metadata": {
    "colab": {
     "base_uri": "https://localhost:8080/"
    },
    "executionInfo": {
     "elapsed": 7241,
     "status": "ok",
     "timestamp": 1623943628032,
     "user": {
      "displayName": "Leevi Kerkelä",
      "photoUrl": "",
      "userId": "10660873715021667163"
     },
     "user_tz": -120
    },
    "id": "aW1cxsYzw-5I",
    "outputId": "c7104f66-f40c-4a00-c62f-a4abf776bf12"
   },
   "outputs": [
    {
     "name": "stdout",
     "output_type": "stream",
     "text": [
      "Collecting git+https://github.com/kerkelae/disimpy.git\n",
      "  Cloning https://github.com/kerkelae/disimpy.git to /tmp/pip-req-build-zfvv9ymk\n",
      "  Running command git clone -q https://github.com/kerkelae/disimpy.git /tmp/pip-req-build-zfvv9ymk\n",
      "Requirement already satisfied (use --upgrade to upgrade): disimpy==0.1.1 from git+https://github.com/kerkelae/disimpy.git in /usr/local/lib/python3.7/dist-packages\n",
      "Requirement already satisfied: numpy>=1.18.4 in /usr/local/lib/python3.7/dist-packages (from disimpy==0.1.1) (1.19.5)\n",
      "Requirement already satisfied: matplotlib>=3.1.3 in /usr/local/lib/python3.7/dist-packages (from disimpy==0.1.1) (3.2.2)\n",
      "Requirement already satisfied: numba>=0.49.0 in /usr/local/lib/python3.7/dist-packages (from disimpy==0.1.1) (0.51.2)\n",
      "Requirement already satisfied: scipy>=1.4.1 in /usr/local/lib/python3.7/dist-packages (from disimpy==0.1.1) (1.4.1)\n",
      "Requirement already satisfied: pytest>=5.4.1 in /usr/local/lib/python3.7/dist-packages (from disimpy==0.1.1) (6.2.4)\n",
      "Requirement already satisfied: pyparsing!=2.0.4,!=2.1.2,!=2.1.6,>=2.0.1 in /usr/local/lib/python3.7/dist-packages (from matplotlib>=3.1.3->disimpy==0.1.1) (2.4.7)\n",
      "Requirement already satisfied: cycler>=0.10 in /usr/local/lib/python3.7/dist-packages (from matplotlib>=3.1.3->disimpy==0.1.1) (0.10.0)\n",
      "Requirement already satisfied: python-dateutil>=2.1 in /usr/local/lib/python3.7/dist-packages (from matplotlib>=3.1.3->disimpy==0.1.1) (2.8.1)\n",
      "Requirement already satisfied: kiwisolver>=1.0.1 in /usr/local/lib/python3.7/dist-packages (from matplotlib>=3.1.3->disimpy==0.1.1) (1.3.1)\n",
      "Requirement already satisfied: setuptools in /usr/local/lib/python3.7/dist-packages (from numba>=0.49.0->disimpy==0.1.1) (57.0.0)\n",
      "Requirement already satisfied: llvmlite<0.35,>=0.34.0.dev0 in /usr/local/lib/python3.7/dist-packages (from numba>=0.49.0->disimpy==0.1.1) (0.34.0)\n",
      "Requirement already satisfied: pluggy<1.0.0a1,>=0.12 in /usr/local/lib/python3.7/dist-packages (from pytest>=5.4.1->disimpy==0.1.1) (0.13.1)\n",
      "Requirement already satisfied: py>=1.8.2 in /usr/local/lib/python3.7/dist-packages (from pytest>=5.4.1->disimpy==0.1.1) (1.10.0)\n",
      "Requirement already satisfied: attrs>=19.2.0 in /usr/local/lib/python3.7/dist-packages (from pytest>=5.4.1->disimpy==0.1.1) (21.2.0)\n",
      "Requirement already satisfied: packaging in /usr/local/lib/python3.7/dist-packages (from pytest>=5.4.1->disimpy==0.1.1) (20.9)\n",
      "Requirement already satisfied: importlib-metadata>=0.12; python_version < \"3.8\" in /usr/local/lib/python3.7/dist-packages (from pytest>=5.4.1->disimpy==0.1.1) (4.5.0)\n",
      "Requirement already satisfied: toml in /usr/local/lib/python3.7/dist-packages (from pytest>=5.4.1->disimpy==0.1.1) (0.10.2)\n",
      "Requirement already satisfied: iniconfig in /usr/local/lib/python3.7/dist-packages (from pytest>=5.4.1->disimpy==0.1.1) (1.1.1)\n",
      "Requirement already satisfied: six in /usr/local/lib/python3.7/dist-packages (from cycler>=0.10->matplotlib>=3.1.3->disimpy==0.1.1) (1.15.0)\n",
      "Requirement already satisfied: typing-extensions>=3.6.4; python_version < \"3.8\" in /usr/local/lib/python3.7/dist-packages (from importlib-metadata>=0.12; python_version < \"3.8\"->pytest>=5.4.1->disimpy==0.1.1) (3.7.4.3)\n",
      "Requirement already satisfied: zipp>=0.5 in /usr/local/lib/python3.7/dist-packages (from importlib-metadata>=0.12; python_version < \"3.8\"->pytest>=5.4.1->disimpy==0.1.1) (3.4.1)\n",
      "Building wheels for collected packages: disimpy\n",
      "  Building wheel for disimpy (setup.py) ... \u001b[?25l\u001b[?25hdone\n",
      "  Created wheel for disimpy: filename=disimpy-0.1.1-cp37-none-any.whl size=613478 sha256=ad765392fbcf63a76cd62342b2b49b26f9f9f74a3e4791eb94f17d913642677d\n",
      "  Stored in directory: /tmp/pip-ephem-wheel-cache-vzkjw_8x/wheels/b8/8e/1c/131e55695ea2e53d2461f9f899360c543f607bf898a02a691f\n",
      "Successfully built disimpy\n"
     ]
    }
   ],
   "source": [
    "# Install Disimpy\n",
    "\n",
    "!pip install git+https://github.com/kerkelae/disimpy.git"
   ]
  },
  {
   "cell_type": "code",
   "execution_count": 2,
   "metadata": {
    "executionInfo": {
     "elapsed": 1083,
     "status": "ok",
     "timestamp": 1623943629106,
     "user": {
      "displayName": "Leevi Kerkelä",
      "photoUrl": "",
      "userId": "10660873715021667163"
     },
     "user_tz": -120
    },
    "id": "ACY2J4XVxAe-"
   },
   "outputs": [],
   "source": [
    "# Import the required packages and modules\n",
    "\n",
    "import os\n",
    "import numpy as np\n",
    "import matplotlib.pyplot as plt\n",
    "\n",
    "from disimpy import gradients, simulations, utils"
   ]
  },
  {
   "cell_type": "code",
   "execution_count": 3,
   "metadata": {
    "colab": {
     "base_uri": "https://localhost:8080/"
    },
    "executionInfo": {
     "elapsed": 19,
     "status": "ok",
     "timestamp": 1623943629109,
     "user": {
      "displayName": "Leevi Kerkelä",
      "photoUrl": "",
      "userId": "10660873715021667163"
     },
     "user_tz": -120
    },
    "id": "EclQvKUp92wF",
    "outputId": "7dc56acf-4001-4bd8-eb5f-b7d3a3d5ecd5"
   },
   "outputs": [
    {
     "name": "stdout",
     "output_type": "stream",
     "text": [
      "Thu Jun 17 15:27:08 2021       \n",
      "+-----------------------------------------------------------------------------+\n",
      "| NVIDIA-SMI 465.27       Driver Version: 460.32.03    CUDA Version: 11.2     |\n",
      "|-------------------------------+----------------------+----------------------+\n",
      "| GPU  Name        Persistence-M| Bus-Id        Disp.A | Volatile Uncorr. ECC |\n",
      "| Fan  Temp  Perf  Pwr:Usage/Cap|         Memory-Usage | GPU-Util  Compute M. |\n",
      "|                               |                      |               MIG M. |\n",
      "|===============================+======================+======================|\n",
      "|   0  Tesla P100-PCIE...  Off  | 00000000:00:04.0 Off |                    0 |\n",
      "| N/A   34C    P0    26W / 250W |      0MiB / 16280MiB |      0%      Default |\n",
      "|                               |                      |                  N/A |\n",
      "+-------------------------------+----------------------+----------------------+\n",
      "                                                                               \n",
      "+-----------------------------------------------------------------------------+\n",
      "| Processes:                                                                  |\n",
      "|  GPU   GI   CI        PID   Type   Process name                  GPU Memory |\n",
      "|        ID   ID                                                   Usage      |\n",
      "|=============================================================================|\n",
      "|  No running processes found                                                 |\n",
      "+-----------------------------------------------------------------------------+\n"
     ]
    }
   ],
   "source": [
    "# Check the available GPU\n",
    "\n",
    "!nvidia-smi"
   ]
  },
  {
   "cell_type": "code",
   "execution_count": 4,
   "metadata": {
    "colab": {
     "base_uri": "https://localhost:8080/"
    },
    "executionInfo": {
     "elapsed": 11,
     "status": "ok",
     "timestamp": 1623943629110,
     "user": {
      "displayName": "Leevi Kerkelä",
      "photoUrl": "",
      "userId": "10660873715021667163"
     },
     "user_tz": -120
    },
    "id": "EajtV6bYqOgY",
    "outputId": "97f9d964-3f0e-43e3-8a0b-ff83068be191"
   },
   "outputs": [
    {
     "name": "stdout",
     "output_type": "stream",
     "text": [
      "Drive already mounted at /content/drive; to attempt to forcibly remount, call drive.mount(\"/content/drive\", force_remount=True).\n"
     ]
    }
   ],
   "source": [
    "# Mount Google Drive if using Google Colaboratory\n",
    "\n",
    "from google.colab import drive\n",
    "drive.mount('/content/drive')"
   ]
  },
  {
   "cell_type": "code",
   "execution_count": 5,
   "metadata": {
    "colab": {
     "base_uri": "https://localhost:8080/"
    },
    "executionInfo": {
     "elapsed": 24518,
     "status": "ok",
     "timestamp": 1623943679280,
     "user": {
      "displayName": "Leevi Kerkelä",
      "photoUrl": "",
      "userId": "10660873715021667163"
     },
     "user_tz": -120
    },
    "id": "uK27kgWvc7Gx",
    "outputId": "700a21a6-a806-4565-9931-0f90349e96f3"
   },
   "outputs": [
    {
     "name": "stdout",
     "output_type": "stream",
     "text": [
      "[3.9320805e-05 3.9333205e-05 3.2000000e-05]\n",
      "(1713598, 3, 3)\n"
     ]
    }
   ],
   "source": [
    "# Define path and load synthetic axons\n",
    "\n",
    "path = '/content/drive/MyDrive/ufa-model-comparison/ConFiG'\n",
    "\n",
    "def load_mesh(mesh_file):\n",
    "    \"\"\"Load mesh from ply file\"\"\"\n",
    "    with open(mesh_file, 'r') as f:\n",
    "        mesh_data = f.readlines()\n",
    "    header = mesh_data[0:mesh_data.index('end_header\\n')]\n",
    "    i = [i for i, e in enumerate(header) if 'element vertex' in e][0]\n",
    "    if header[i + 1:i + 4] != ['property float x\\n', 'property float y\\n',\n",
    "                               'property float z\\n']:\n",
    "        raise Exception(\n",
    "            'Unsupported mesh file (%s). ' % mesh_file +\n",
    "            'Vertex positions must be the first vertex positions defined. ' +\n",
    "            'Please see %s as an example of the supported format.' % (\n",
    "                os.path.join(os.path.dirname(utils.__file__), 'tests',\n",
    "                             'example_mesh.ply')))\n",
    "    n_of_vertices = int([i for i in mesh_data if\n",
    "                         i.startswith('element vertex ')][0].split()[-1])\n",
    "    first_vertice_idx = mesh_data.index('end_header\\n') + 1\n",
    "    vertices = np.loadtxt(mesh_data[first_vertice_idx:first_vertice_idx +\n",
    "                                    n_of_vertices])\n",
    "    faces = np.loadtxt(mesh_data[first_vertice_idx + n_of_vertices::])[:, 1:4]\n",
    "    mesh = np.zeros((faces.shape[0], 3, 3))\n",
    "    for i in range(faces.shape[0]):\n",
    "        mesh[i, :, :] = vertices[np.array(faces[i], dtype=int)][0:3, 0:3]\n",
    "    mesh = np.add(mesh, - np.min(np.min(mesh, 0), 0))\n",
    "    return mesh\n",
    "\n",
    "mesh = load_mesh(\n",
    "    os.path.join(path, 'cell_tissue_replicated_periodic.ply')) * 1e-6\n",
    "mesh_size = np.max(np.max(mesh, 0), 0)\n",
    "print(mesh_size)\n",
    "print(mesh.shape)"
   ]
  },
  {
   "cell_type": "code",
   "execution_count": 6,
   "metadata": {
    "executionInfo": {
     "elapsed": 4532,
     "status": "ok",
     "timestamp": 1623943683791,
     "user": {
      "displayName": "Leevi Kerkelä",
      "photoUrl": "",
      "userId": "10660873715021667163"
     },
     "user_tz": -120
    },
    "id": "kvupfRmxB9zZ"
   },
   "outputs": [],
   "source": [
    "# Load simulation initial positions\n",
    "\n",
    "n_s = int(6e5)\n",
    "pos = np.zeros((n_s, 3))\n",
    "for i in range(381):\n",
    "    f = i + 1\n",
    "    pos[int(i*1e3):int((i+1)*1e3), :] = np.loadtxt(\n",
    "        os.path.join(path, 'intra_init_pos_%s.txt' % f))\n",
    "pos[int(381e3)::, :] = np.loadtxt(os.path.join(path, 'extra_init_pos.txt'))"
   ]
  },
  {
   "cell_type": "code",
   "execution_count": 7,
   "metadata": {
    "executionInfo": {
     "elapsed": 16,
     "status": "ok",
     "timestamp": 1623943683799,
     "user": {
      "displayName": "Leevi Kerkelä",
      "photoUrl": "",
      "userId": "10660873715021667163"
     },
     "user_tz": -120
    },
    "id": "RCQSgNZOKyp9"
   },
   "outputs": [],
   "source": [
    "# Define diffusivity\n",
    "\n",
    "diffusivity = 2e-9"
   ]
  },
  {
   "cell_type": "code",
   "execution_count": 8,
   "metadata": {
    "executionInfo": {
     "elapsed": 16,
     "status": "ok",
     "timestamp": 1623943683801,
     "user": {
      "displayName": "Leevi Kerkelä",
      "photoUrl": "",
      "userId": "10660873715021667163"
     },
     "user_tz": -120
    },
    "id": "9z0AQJZ-XoTh"
   },
   "outputs": [],
   "source": [
    "# Define PRNG seed\n",
    "\n",
    "seed = 123"
   ]
  },
  {
   "cell_type": "code",
   "execution_count": 9,
   "metadata": {
    "executionInfo": {
     "elapsed": 15,
     "status": "ok",
     "timestamp": 1623943683802,
     "user": {
      "displayName": "Leevi Kerkelä",
      "photoUrl": "",
      "userId": "10660873715021667163"
     },
     "user_tz": -120
    },
    "id": "cLj5TVd21nFS"
   },
   "outputs": [],
   "source": [
    "# Load b-values and b-vectors\n",
    "\n",
    "bvals = np.loadtxt(os.path.join(path, 'LTE-STE.bval'))[0:107] * 1e6\n",
    "bvecs = np.round(np.loadtxt(os.path.join(path, 'LTE-STE.bvec'))[:, 0:107], 4).T\n",
    "bvals[bvals == 0] = 1e-9\n",
    "bs = np.unique(bvals)\n",
    "bvals = np.concatenate([bvals, bvals])\n",
    "bvecs = np.concatenate([bvecs, bvecs], axis=0)\n",
    "lte_idx = np.arange(0, 107).astype(int)\n",
    "ste_idx = np.arange(107, 2 * 107).astype(int)\n",
    "lte_bvals = bvals[lte_idx]\n",
    "ste_bvals = bvals[ste_idx]"
   ]
  },
  {
   "cell_type": "code",
   "execution_count": 10,
   "metadata": {
    "executionInfo": {
     "elapsed": 15,
     "status": "ok",
     "timestamp": 1623943683804,
     "user": {
      "displayName": "Leevi Kerkelä",
      "photoUrl": "",
      "userId": "10660873715021667163"
     },
     "user_tz": -120
    },
    "id": "oJ6eKBZ_yqNS"
   },
   "outputs": [],
   "source": [
    "# Define simulated substrate\n",
    "\n",
    "substrate = {'type' : 'mesh',\n",
    "             'mesh' : mesh,\n",
    "             'initial positions' : pos,\n",
    "             'periodic' : True,\n",
    "             'N_sv' : 50}"
   ]
  },
  {
   "cell_type": "markdown",
   "metadata": {
    "id": "iR-4DuKlqtyH"
   },
   "source": [
    "# Simulation 1"
   ]
  },
  {
   "cell_type": "code",
   "execution_count": 11,
   "metadata": {
    "colab": {
     "base_uri": "https://localhost:8080/",
     "height": 513
    },
    "executionInfo": {
     "elapsed": 1055,
     "status": "ok",
     "timestamp": 1623943684844,
     "user": {
      "displayName": "Leevi Kerkelä",
      "photoUrl": "",
      "userId": "10660873715021667163"
     },
     "user_tz": -120
    },
    "id": "9VV1PQ9gB7Kp",
    "outputId": "2d37008d-e60f-4354-95fa-ab1ac48ac510"
   },
   "outputs": [
    {
     "data": {
      "image/png": "[encoded data removed]",
      "text/plain": [
       "<Figure size 432x288 with 1 Axes>"
      ]
     },
     "metadata": {
      "needs_background": "light",
      "tags": []
     },
     "output_type": "display_data"
    },
    {
     "data": {
      "image/png": "[encoded data removed]",
      "text/plain": [
       "<Figure size 432x288 with 1 Axes>"
      ]
     },
     "metadata": {
      "needs_background": "light",
      "tags": []
     },
     "output_type": "display_data"
    }
   ],
   "source": [
    "# Define gradient waveform\n",
    "\n",
    "ste = np.loadtxt(os.path.join(path, 'waveform_STE.txt'))[np.newaxis, :, :]\n",
    "lte = np.loadtxt(os.path.join(path, 'waveform_LTE.txt'))[np.newaxis, :, :]\n",
    "plt.plot(lte[0])\n",
    "plt.show()\n",
    "plt.plot(ste[0])\n",
    "plt.show()\n",
    "\n",
    "\n",
    "# Create gradient array\n",
    "\n",
    "T = 80e-3\n",
    "n_t = int(1e4)\n",
    "gradient = np.concatenate(\n",
    "    [lte for i in range(107)] + [ste for i in range(107)], axis=0)\n",
    "dt = T / (gradient.shape[1] - 1)\n",
    "Rs = [utils.vec2vec_rotmat(np.array([1., 0, 0]), i) if np.linalg.norm(i) != 0 \n",
    "      else np.eye(3) for i in bvecs]\n",
    "gradient = gradients.rotate_gradient(gradient, Rs)\n",
    "gradient, dt = gradients.interpolate_gradient(gradient, dt, n_t)\n",
    "gradient = gradients.set_b(gradient, dt, bvals)"
   ]
  },
  {
   "cell_type": "code",
   "execution_count": 12,
   "metadata": {
    "colab": {
     "base_uri": "https://localhost:8080/",
     "height": 404
    },
    "executionInfo": {
     "elapsed": 158215,
     "status": "ok",
     "timestamp": 1623931609860,
     "user": {
      "displayName": "Leevi Kerkelä",
      "photoUrl": "",
      "userId": "10660873715021667163"
     },
     "user_tz": -120
    },
    "id": "vcghu9XcW5ZI",
    "outputId": "4afe846a-3140-48e9-8090-2f1cc811a276"
   },
   "outputs": [
    {
     "name": "stdout",
     "output_type": "stream",
     "text": [
      "Starting simulation\n",
      "The trajectories file will be up to 0.75 GB\n",
      "Number of spins = 1000\n",
      "Number of steps = 10000\n",
      "Step length = 3.1184411690258525e-07 m\n",
      "Step duration = 8.103896103896104e-06 s\n",
      "Periodic boundary conditions is an experimental feature.\n",
      "Initialized random walker positions.\n",
      "Simulation finished.\n"
     ]
    },
    {
     "data": {
      "image/png": "[encoded data removed]",
      "text/plain": [
       "<Figure size 432x288 with 1 Axes>"
      ]
     },
     "metadata": {
      "needs_background": "light",
      "tags": []
     },
     "output_type": "display_data"
    }
   ],
   "source": [
    "# Show an example of diffusion in periodic fibres\n",
    "\n",
    "N = 1000\n",
    "fibre_substrate = {'type' : 'mesh',\n",
    "                   'mesh' : mesh,\n",
    "                   'initial positions' : pos[0:N],\n",
    "                   'periodic' : True,\n",
    "                   'N_sv' : 50}\n",
    "\n",
    "signals = simulations.simulation(\n",
    "    N, diffusivity, gradient, dt, fibre_substrate, trajectories='traj.txt')\n",
    "\n",
    "trajectories = np.loadtxt('traj.txt')\n",
    "trajectories = trajectories.reshape(\n",
    "    (trajectories.shape[0], int(trajectories.shape[1] / 3), 3))\n",
    "\n",
    "from mpl_toolkits.mplot3d import Axes3D\n",
    "\n",
    "fig = plt.figure()\n",
    "ax = fig.add_subplot(111, projection='3d')\n",
    "for i in range(trajectories.shape[1]):\n",
    "    ax.plot(trajectories[:, i, 0],\n",
    "            trajectories[:, i, 1],\n",
    "            trajectories[:, i, 2],\n",
    "            alpha=.5)\n",
    "ax.set_xlabel('x')\n",
    "ax.set_ylabel('y')\n",
    "ax.set_zlabel('z')\n",
    "ax.set_xlim([-np.max(trajectories), np.max(trajectories)])\n",
    "ax.set_ylim([-np.max(trajectories), np.max(trajectories)])\n",
    "ax.set_zlim([-np.max(trajectories), np.max(trajectories)])\n",
    "ax.ticklabel_format(style='sci', scilimits=(0, 0))\n",
    "plt.show()"
   ]
  },
  {
   "cell_type": "code",
   "execution_count": 14,
   "metadata": {
    "colab": {
     "base_uri": "https://localhost:8080/"
    },
    "executionInfo": {
     "elapsed": 557231,
     "status": "ok",
     "timestamp": 1623932488029,
     "user": {
      "displayName": "Leevi Kerkelä",
      "photoUrl": "",
      "userId": "10660873715021667163"
     },
     "user_tz": -120
    },
    "id": "HXs9SGXqX38i",
    "outputId": "80db0441-1d9c-4e47-f28a-2e7f1231a6ad"
   },
   "outputs": [
    {
     "name": "stdout",
     "output_type": "stream",
     "text": [
      "Starting simulation\n",
      "Number of spins = 600000\n",
      "Number of steps = 10000\n",
      "Step length = 3.1184411690258525e-07 m\n",
      "Step duration = 8.103896103896104e-06 s\n",
      "Periodic boundary conditions is an experimental feature.\n",
      "Initialized random walker positions.\n",
      "Simulation finished.\n"
     ]
    }
   ],
   "source": [
    "# Run simulation with QTE (takes ~45 min)\n",
    "\n",
    "signals_1 = simulations.simulation(n_s, diffusivity, gradient, dt, substrate,\n",
    "                                   all_signals=True, seed=seed)\n",
    "np.save(os.path.join(path, 'simulated_signals_1_seed%s.npy' % seed), signals_1)"
   ]
  },
  {
   "cell_type": "code",
   "execution_count": 15,
   "metadata": {
    "colab": {
     "base_uri": "https://localhost:8080/"
    },
    "executionInfo": {
     "elapsed": 3958484,
     "status": "ok",
     "timestamp": 1623936446491,
     "user": {
      "displayName": "Leevi Kerkelä",
      "photoUrl": "",
      "userId": "10660873715021667163"
     },
     "user_tz": -120
    },
    "id": "7N_2q6TpMynF",
    "outputId": "e29bfec5-e263-4d57-c14f-f39a56e8ad53"
   },
   "outputs": [
    {
     "name": "stdout",
     "output_type": "stream",
     "text": [
      "Starting simulation\n",
      "Number of spins = 600000\n",
      "Number of steps = 10000\n",
      "Step length = 3.1184411690258525e-07 m\n",
      "Step duration = 8.103896103896104e-06 s\n",
      "Periodic boundary conditions is an experimental feature.\n",
      "Initialized random walker positions.\n",
      "Simulation finished.\n"
     ]
    },
    {
     "name": "stderr",
     "output_type": "stream",
     "text": [
      "/usr/local/lib/python3.7/dist-packages/disimpy/simulations.py:1414: UserWarning: Maximum number of iterations was exceeded in the intersection check algorithm for walkers [446686].\n",
      "  'check algorithm for walkers %s.' % np.where(iter_exc)[0])\n"
     ]
    },
    {
     "name": "stdout",
     "output_type": "stream",
     "text": [
      "Starting simulation\n",
      "Number of spins = 600000\n",
      "Number of steps = 10000\n",
      "Step length = 3.1184411690258525e-07 m\n",
      "Step duration = 8.103896103896104e-06 s\n",
      "Periodic boundary conditions is an experimental feature.\n",
      "Initialized random walker positions.\n",
      "Simulation finished.\n"
     ]
    },
    {
     "name": "stderr",
     "output_type": "stream",
     "text": [
      "/usr/local/lib/python3.7/dist-packages/disimpy/simulations.py:1414: UserWarning: Maximum number of iterations was exceeded in the intersection check algorithm for walkers [595825].\n",
      "  'check algorithm for walkers %s.' % np.where(iter_exc)[0])\n"
     ]
    },
    {
     "name": "stdout",
     "output_type": "stream",
     "text": [
      "Starting simulation\n",
      "Number of spins = 600000\n",
      "Number of steps = 10000\n",
      "Step length = 3.1184411690258525e-07 m\n",
      "Step duration = 8.103896103896104e-06 s\n",
      "Periodic boundary conditions is an experimental feature.\n",
      "Initialized random walker positions.\n",
      "Simulation finished.\n"
     ]
    },
    {
     "name": "stderr",
     "output_type": "stream",
     "text": [
      "/usr/local/lib/python3.7/dist-packages/disimpy/simulations.py:1414: UserWarning: Maximum number of iterations was exceeded in the intersection check algorithm for walkers [257098 393474].\n",
      "  'check algorithm for walkers %s.' % np.where(iter_exc)[0])\n"
     ]
    },
    {
     "name": "stdout",
     "output_type": "stream",
     "text": [
      "Starting simulation\n",
      "Number of spins = 600000\n",
      "Number of steps = 10000\n",
      "Step length = 3.1184411690258525e-07 m\n",
      "Step duration = 8.103896103896104e-06 s\n",
      "Periodic boundary conditions is an experimental feature.\n",
      "Initialized random walker positions.\n",
      "Simulation finished.\n",
      "Starting simulation\n",
      "Number of spins = 600000\n",
      "Number of steps = 10000\n",
      "Step length = 3.1184411690258525e-07 m\n",
      "Step duration = 8.103896103896104e-06 s\n",
      "Periodic boundary conditions is an experimental feature.\n",
      "Initialized random walker positions.\n",
      "Simulation finished.\n"
     ]
    },
    {
     "name": "stderr",
     "output_type": "stream",
     "text": [
      "/usr/local/lib/python3.7/dist-packages/disimpy/simulations.py:1414: UserWarning: Maximum number of iterations was exceeded in the intersection check algorithm for walkers [418078].\n",
      "  'check algorithm for walkers %s.' % np.where(iter_exc)[0])\n"
     ]
    },
    {
     "name": "stdout",
     "output_type": "stream",
     "text": [
      "Starting simulation\n",
      "Number of spins = 600000\n",
      "Number of steps = 10000\n",
      "Step length = 3.1184411690258525e-07 m\n",
      "Step duration = 8.103896103896104e-06 s\n",
      "Periodic boundary conditions is an experimental feature.\n",
      "Initialized random walker positions.\n",
      "Simulation finished.\n"
     ]
    },
    {
     "name": "stderr",
     "output_type": "stream",
     "text": [
      "/usr/local/lib/python3.7/dist-packages/disimpy/simulations.py:1414: UserWarning: Maximum number of iterations was exceeded in the intersection check algorithm for walkers [48647].\n",
      "  'check algorithm for walkers %s.' % np.where(iter_exc)[0])\n"
     ]
    },
    {
     "name": "stdout",
     "output_type": "stream",
     "text": [
      "Starting simulation\n",
      "Number of spins = 600000\n",
      "Number of steps = 10000\n",
      "Step length = 3.1184411690258525e-07 m\n",
      "Step duration = 8.103896103896104e-06 s\n",
      "Periodic boundary conditions is an experimental feature.\n",
      "Initialized random walker positions.\n",
      "Simulation finished.\n"
     ]
    },
    {
     "name": "stderr",
     "output_type": "stream",
     "text": [
      "/usr/local/lib/python3.7/dist-packages/disimpy/simulations.py:1414: UserWarning: Maximum number of iterations was exceeded in the intersection check algorithm for walkers [347207].\n",
      "  'check algorithm for walkers %s.' % np.where(iter_exc)[0])\n"
     ]
    }
   ],
   "source": [
    "# Repeat simulation with different random number seeds to quantify variance\n",
    "\n",
    "seeds = [1, 12, 1234, 12345, 123456, 1234567, 12345678, 123456789, 666]\n",
    "for seed in seeds:\n",
    "    signals_1 = simulations.simulation(n_s, diffusivity, gradient, dt,\n",
    "                                       substrate, all_signals=True, seed=seed)\n",
    "    np.save(os.path.join(path, 'simulated_signals_1_seed%s.npy' % seed),\n",
    "            signals_1)\n",
    "seed = 123"
   ]
  },
  {
   "cell_type": "markdown",
   "metadata": {
    "id": "muK9_MlwqxPM"
   },
   "source": [
    "# Simulation 2\n"
   ]
  },
  {
   "cell_type": "code",
   "execution_count": 16,
   "metadata": {
    "colab": {
     "base_uri": "https://localhost:8080/",
     "height": 513
    },
    "executionInfo": {
     "elapsed": 1548,
     "status": "ok",
     "timestamp": 1623936448035,
     "user": {
      "displayName": "Leevi Kerkelä",
      "photoUrl": "",
      "userId": "10660873715021667163"
     },
     "user_tz": -120
    },
    "id": "TKJa3qTdxYi5",
    "outputId": "df461949-1a3a-44cf-aeeb-e7af1bf57a47"
   },
   "outputs": [
    {
     "data": {
      "image/png": "[encoded data removed]",
      "text/plain": [
       "<Figure size 432x288 with 1 Axes>"
      ]
     },
     "metadata": {
      "needs_background": "light",
      "tags": []
     },
     "output_type": "display_data"
    },
    {
     "data": {
      "image/png": "[encoded data removed]",
      "text/plain": [
       "<Figure size 432x288 with 1 Axes>"
      ]
     },
     "metadata": {
      "needs_background": "light",
      "tags": []
     },
     "output_type": "display_data"
    }
   ],
   "source": [
    "# Define waveforms\n",
    "\n",
    "lte = np.loadtxt(os.path.join(path, 'waveform_LTE.txt'))\n",
    "n_zeros = 8\n",
    "ste = np.zeros((lte.shape[0] * 3 + n_zeros * 2, 3))\n",
    "ste[0:78, 0] = lte[:, 0] \n",
    "ste[78 + n_zeros:78 + n_zeros + 78, 1] = lte[:, 0] \n",
    "ste[78 + n_zeros + 78 + n_zeros::, 2] = lte[:, 0] \n",
    "ste = ste[np.newaxis, :, :]\n",
    "lte = np.copy(ste)\n",
    "lte[:, :, 1::] = 0\n",
    "plt.plot(lte[0])\n",
    "plt.show()\n",
    "plt.plot(ste[0])\n",
    "plt.show()\n",
    "\n",
    "\n",
    "# Create gradient array\n",
    "\n",
    "T = 256e-3\n",
    "n_t = 31720\n",
    "gradient = np.concatenate(\n",
    "    [lte for i in range(107)] + [ste for i in range(107)], axis=0)\n",
    "dt = T / (gradient.shape[1] - 1)\n",
    "Rs = [utils.vec2vec_rotmat(np.array([1., 0, 0]), i) if np.linalg.norm(i) != 0 \n",
    "      else np.eye(3) for i in bvecs]\n",
    "gradient = gradients.rotate_gradient(gradient, Rs)\n",
    "gradient, dt = gradients.interpolate_gradient(gradient, dt, n_t)\n",
    "gradient = gradients.set_b(gradient, dt, bvals)"
   ]
  },
  {
   "cell_type": "code",
   "execution_count": 17,
   "metadata": {
    "colab": {
     "base_uri": "https://localhost:8080/"
    },
    "executionInfo": {
     "elapsed": 1576029,
     "status": "ok",
     "timestamp": 1623938024052,
     "user": {
      "displayName": "Leevi Kerkelä",
      "photoUrl": "",
      "userId": "10660873715021667163"
     },
     "user_tz": -120
    },
    "id": "tTB3YLm2_-1V",
    "outputId": "5f1021b2-1c86-47bb-8118-94f99584672b"
   },
   "outputs": [
    {
     "name": "stdout",
     "output_type": "stream",
     "text": [
      "Starting simulation\n",
      "Number of spins = 600000\n",
      "Number of steps = 31720\n",
      "Step length = 3.118274528028085e-07 m\n",
      "Step duration = 8.103030026790645e-06 s\n",
      "Periodic boundary conditions is an experimental feature.\n",
      "Initialized random walker positions.\n",
      "Simulation finished.\n"
     ]
    },
    {
     "name": "stderr",
     "output_type": "stream",
     "text": [
      "/usr/local/lib/python3.7/dist-packages/disimpy/simulations.py:1414: UserWarning: Maximum number of iterations was exceeded in the intersection check algorithm for walkers [ 54111 181832 306600 376725 397788 399310 447374 512704 514718].\n",
      "  'check algorithm for walkers %s.' % np.where(iter_exc)[0])\n"
     ]
    }
   ],
   "source": [
    "# Run simulation with TDE1\n",
    "\n",
    "signals_2 = simulations.simulation(n_s, diffusivity, gradient, dt, substrate,\n",
    "                                   all_signals=True, seed=seed)\n",
    "np.save(os.path.join(path, 'simulated_signals_2_seed%s.npy' % seed), signals_2)"
   ]
  },
  {
   "cell_type": "markdown",
   "metadata": {
    "id": "c2ZKM22itoMy"
   },
   "source": [
    "# Simulation 3"
   ]
  },
  {
   "cell_type": "code",
   "execution_count": 18,
   "metadata": {
    "colab": {
     "base_uri": "https://localhost:8080/",
     "height": 530
    },
    "executionInfo": {
     "elapsed": 2722,
     "status": "ok",
     "timestamp": 1623938026763,
     "user": {
      "displayName": "Leevi Kerkelä",
      "photoUrl": "",
      "userId": "10660873715021667163"
     },
     "user_tz": -120
    },
    "id": "0winq7rUtszU",
    "outputId": "8d8380f3-2967-411e-fb62-ab48eba6d4ed"
   },
   "outputs": [
    {
     "data": {
      "image/png": "[encoded data removed]",
      "text/plain": [
       "<Figure size 432x288 with 1 Axes>"
      ]
     },
     "metadata": {
      "needs_background": "light",
      "tags": []
     },
     "output_type": "display_data"
    },
    {
     "data": {
      "image/png": "[encoded data removed]",
      "text/plain": [
       "<Figure size 432x288 with 1 Axes>"
      ]
     },
     "metadata": {
      "needs_background": "light",
      "tags": []
     },
     "output_type": "display_data"
    },
    {
     "data": {
      "text/plain": [
       "8.103545301069219e-06"
      ]
     },
     "execution_count": 18,
     "metadata": {
      "tags": []
     },
     "output_type": "execute_result"
    }
   ],
   "source": [
    "# Define waveforms\n",
    "\n",
    "lte = np.zeros((504, 3))\n",
    "lte[1:3, 0] = 1\n",
    "lte[101:103, 0] = -1\n",
    "lte[201:203, 0] = 1\n",
    "lte[301:303, 0] = -1\n",
    "lte[401:403, 0] = 1\n",
    "lte[501:503, 0] = -1\n",
    "lte = lte[np.newaxis, :, :]\n",
    "ste = np.zeros((504, 3))\n",
    "ste[1:3, 0] = 1\n",
    "ste[101:103, 0] = -1\n",
    "ste[201:203, 1] = 1\n",
    "ste[301:303, 1] = -1\n",
    "ste[401:403, 2] = 1\n",
    "ste[501:503, 2] = -1\n",
    "ste = ste[np.newaxis, :, :]\n",
    "plt.plot(lte[0])\n",
    "plt.show()\n",
    "plt.plot(ste[0])\n",
    "plt.show()\n",
    "\n",
    "\n",
    "# Create gradient array\n",
    "\n",
    "T = 503e-3\n",
    "n_t = 62195\n",
    "gradient = np.concatenate(\n",
    "    [lte for i in range(107)] + [ste for i in range(107)], axis=0)\n",
    "dt = T / (gradient.shape[1] - 1)\n",
    "Rs = [utils.vec2vec_rotmat(np.array([1., 0, 0]), i) if np.linalg.norm(i) != 0 \n",
    "      else np.eye(3) for i in bvecs]\n",
    "gradient = gradients.rotate_gradient(gradient, Rs)\n",
    "gradient, dt = gradients.interpolate_gradient(gradient, dt, n_t)\n",
    "gradient = gradients.set_b(gradient, dt, bvals)\n",
    "\n",
    "dt"
   ]
  },
  {
   "cell_type": "code",
   "execution_count": null,
   "metadata": {
    "colab": {
     "base_uri": "https://localhost:8080/"
    },
    "id": "M9G2yvLU-ZTr",
    "outputId": "6a8a099a-8106-4848-d2e8-826e2cac118f"
   },
   "outputs": [
    {
     "name": "stdout",
     "output_type": "stream",
     "text": [
      "Starting simulation\n",
      "Number of spins = 600000\n",
      "Number of steps = 62195\n",
      "Step length = 3.1183736724906887e-07 m\n",
      "Step duration = 8.103545301069219e-06 s\n",
      "Periodic boundary conditions is an experimental feature.\n",
      "Initialized random walker positions.\n",
      "Simulation finished.\n"
     ]
    },
    {
     "name": "stderr",
     "output_type": "stream",
     "text": [
      "/usr/local/lib/python3.7/dist-packages/disimpy/simulations.py:1414: UserWarning: Maximum number of iterations was exceeded in the intersection check algorithm for walkers [280921 302730 316594 331255 407788 472239 518554].\n",
      "  'check algorithm for walkers %s.' % np.where(iter_exc)[0])\n"
     ]
    }
   ],
   "source": [
    "# Run simulation with TDE2\n",
    "\n",
    "signals_3 = simulations.simulation(n_s, diffusivity, gradient, dt, substrate,\n",
    "                                   all_signals=True, seed=seed)\n",
    "np.save(os.path.join(path, 'simulated_signals_3_seed%s.npy' % seed), signals_3)"
   ]
  }
 ],
 "metadata": {
  "accelerator": "GPU",
  "colab": {
   "collapsed_sections": [],
   "name": "simulations.ipynb",
   "provenance": []
  },
  "kernelspec": {
   "display_name": "Python 3",
   "language": "python",
   "name": "python3"
  },
  "language_info": {
   "codemirror_mode": {
    "name": "ipython",
    "version": 3
   },
   "file_extension": ".py",
   "mimetype": "text/x-python",
   "name": "python",
   "nbconvert_exporter": "python",
   "pygments_lexer": "ipython3",
   "version": "3.7.6"
  }
 },
 "nbformat": 4,
 "nbformat_minor": 4
}
