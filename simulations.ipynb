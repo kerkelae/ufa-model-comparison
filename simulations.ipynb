{
 "cells": [
  {
   "cell_type": "markdown",
   "metadata": {
    "id": "APmn0RPrIX16"
   },
   "source": [
    "# Set up"
   ]
  },
  {
   "cell_type": "code",
   "execution_count": null,
   "metadata": {
    "colab": {
     "base_uri": "https://localhost:8080/"
    },
    "executionInfo": {
     "elapsed": 13801,
     "status": "ok",
     "timestamp": 1625295129015,
     "user": {
      "displayName": "Leevi Kerkelä",
      "photoUrl": "",
      "userId": "10660873715021667163"
     },
     "user_tz": -180
    },
    "id": "aW1cxsYzw-5I",
    "outputId": "60ade6c4-410c-4e9f-de50-c36cdb31395a"
   },
   "outputs": [],
   "source": [
    "# Install Disimpy\n",
    "\n",
    "!pip install git+https://github.com/kerkelae/disimpy.git"
   ]
  },
  {
   "cell_type": "code",
   "execution_count": null,
   "metadata": {
    "colab": {
     "base_uri": "https://localhost:8080/"
    },
    "executionInfo": {
     "elapsed": 1021,
     "status": "ok",
     "timestamp": 1625295130021,
     "user": {
      "displayName": "Leevi Kerkelä",
      "photoUrl": "",
      "userId": "10660873715021667163"
     },
     "user_tz": -180
    },
    "id": "EclQvKUp92wF",
    "outputId": "e11e9c41-ab8a-428f-9a15-f882318e856a"
   },
   "outputs": [],
   "source": [
    "# Check available GPU\n",
    "\n",
    "!nvidia-smi"
   ]
  },
  {
   "cell_type": "code",
   "execution_count": null,
   "metadata": {
    "colab": {
     "base_uri": "https://localhost:8080/"
    },
    "executionInfo": {
     "elapsed": 19714,
     "status": "ok",
     "timestamp": 1625295011184,
     "user": {
      "displayName": "Leevi Kerkelä",
      "photoUrl": "",
      "userId": "10660873715021667163"
     },
     "user_tz": -180
    },
    "id": "EajtV6bYqOgY",
    "outputId": "2e517bee-2d50-425a-88de-5c18b72a755b"
   },
   "outputs": [],
   "source": [
    "# Mount Drive if using Google Colaboratory\n",
    "\n",
    "from google.colab import drive\n",
    "drive.mount('/content/drive')"
   ]
  },
  {
   "cell_type": "code",
   "execution_count": null,
   "metadata": {
    "executionInfo": {
     "elapsed": 1040,
     "status": "ok",
     "timestamp": 1625295131051,
     "user": {
      "displayName": "Leevi Kerkelä",
      "photoUrl": "",
      "userId": "10660873715021667163"
     },
     "user_tz": -180
    },
    "id": "ACY2J4XVxAe-"
   },
   "outputs": [],
   "source": [
    "# Import the required packages and modules\n",
    "\n",
    "import os\n",
    "import numpy as np\n",
    "import matplotlib.pyplot as plt\n",
    "\n",
    "from disimpy import gradients, simulations, utils"
   ]
  },
  {
   "cell_type": "code",
   "execution_count": null,
   "metadata": {
    "colab": {
     "base_uri": "https://localhost:8080/"
    },
    "executionInfo": {
     "elapsed": 35650,
     "status": "ok",
     "timestamp": 1625295166688,
     "user": {
      "displayName": "Leevi Kerkelä",
      "photoUrl": "",
      "userId": "10660873715021667163"
     },
     "user_tz": -180
    },
    "id": "uK27kgWvc7Gx",
    "outputId": "bcc1f7d3-3773-449a-99b1-2658d50606b2"
   },
   "outputs": [],
   "source": [
    "# Define path and load synthetic axons\n",
    "\n",
    "path = '/content/drive/MyDrive/final-ufa-model-comparison/ConFiG'\n",
    "\n",
    "def load_mesh(mesh_file):\n",
    "    \"\"\"Load mesh from ply file\"\"\"\n",
    "    with open(mesh_file, 'r') as f:\n",
    "        mesh_data = f.readlines()\n",
    "    header = mesh_data[0:mesh_data.index('end_header\\n')]\n",
    "    i = [i for i, e in enumerate(header) if 'element vertex' in e][0]\n",
    "    if header[i + 1:i + 4] != ['property float x\\n', 'property float y\\n',\n",
    "                               'property float z\\n']:\n",
    "        raise Exception(\n",
    "            'Unsupported mesh file (%s). ' % mesh_file +\n",
    "            'Vertex positions must be the first vertex positions defined. ' +\n",
    "            'Please see %s as an example of the supported format.' % (\n",
    "                os.path.join(os.path.dirname(utils.__file__), 'tests',\n",
    "                             'example_mesh.ply')))\n",
    "    n_of_vertices = int([i for i in mesh_data if\n",
    "                         i.startswith('element vertex ')][0].split()[-1])\n",
    "    first_vertice_idx = mesh_data.index('end_header\\n') + 1\n",
    "    vertices = np.loadtxt(mesh_data[first_vertice_idx:first_vertice_idx +\n",
    "                                    n_of_vertices])\n",
    "    faces = np.loadtxt(mesh_data[first_vertice_idx + n_of_vertices::])[:, 1:4]\n",
    "    mesh = np.zeros((faces.shape[0], 3, 3))\n",
    "    for i in range(faces.shape[0]):\n",
    "        mesh[i, :, :] = vertices[np.array(faces[i], dtype=int)][0:3, 0:3]\n",
    "    mesh = np.add(mesh, - np.min(np.min(mesh, 0), 0))\n",
    "    return mesh\n",
    "\n",
    "mesh = load_mesh(\n",
    "    os.path.join(path, 'cell_tissue_replicated_periodic.ply')) * 1e-6\n",
    "mesh_size = np.max(np.max(mesh, 0), 0)\n",
    "print(mesh_size)\n",
    "print(mesh.shape)"
   ]
  },
  {
   "cell_type": "code",
   "execution_count": null,
   "metadata": {
    "colab": {
     "base_uri": "https://localhost:8080/",
     "height": 1000,
     "output_embedded_package_id": "19oJ8PYX2BwfE4c14RxOI95ciE-g6OWgL"
    },
    "executionInfo": {
     "elapsed": 323006,
     "status": "ok",
     "timestamp": 1625295489671,
     "user": {
      "displayName": "Leevi Kerkelä",
      "photoUrl": "",
      "userId": "10660873715021667163"
     },
     "user_tz": -180
    },
    "id": "oUQHzpAEcCny",
    "outputId": "0e76146b-1157-4783-8c4b-07272b7377e3"
   },
   "outputs": [],
   "source": [
    "# Load and show initial positions\n",
    "\n",
    "n_s = int(3e6)\n",
    "pos = np.zeros((n_s, 3))\n",
    "for i in range(381):\n",
    "    pos[int(i*5e3):int((i+1)*5e3), :] = np.loadtxt(\n",
    "        os.path.join(path, 'init_pos_intra_%s.txt' % (i + 1)))\n",
    "pos[int(1.905e6)::] = np.loadtxt((os.path.join(path, 'init_pos_extra.txt')))\n",
    "\n",
    "for i in range(382):\n",
    "    fig = plt.figure()\n",
    "    ax = fig.add_subplot(projection='3d')\n",
    "    if i < 381:\n",
    "        ax.scatter(pos[int(i*5e3):int((i+1)*5e3), 0],\n",
    "                   pos[int(i*5e3):int((i+1)*5e3), 1],\n",
    "                   pos[int(i*5e3):int((i+1)*5e3), 2], s=1, alpha=.1)\n",
    "        ax.set_title('Fibre %s' % (i + 1))\n",
    "    else:\n",
    "        ax.scatter(pos[int(1.905e6)::, 0],\n",
    "                   pos[int(1.905e6)::, 1],\n",
    "                   pos[int(1.905e6)::, 2], s=1, alpha=.1)\n",
    "    ax.set_xlim([0, 3.9e-5])\n",
    "    ax.set_ylim([0, 3.9e-5])\n",
    "    ax.set_zlim([0, 3.2e-5])\n",
    "    fig.tight_layout()\n",
    "    plt.show()"
   ]
  },
  {
   "cell_type": "code",
   "execution_count": null,
   "metadata": {
    "executionInfo": {
     "elapsed": 32,
     "status": "ok",
     "timestamp": 1625295489673,
     "user": {
      "displayName": "Leevi Kerkelä",
      "photoUrl": "",
      "userId": "10660873715021667163"
     },
     "user_tz": -180
    },
    "id": "RCQSgNZOKyp9"
   },
   "outputs": [],
   "source": [
    "# Define diffusivity\n",
    "\n",
    "diffusivity = 2e-9"
   ]
  },
  {
   "cell_type": "code",
   "execution_count": null,
   "metadata": {
    "executionInfo": {
     "elapsed": 468,
     "status": "ok",
     "timestamp": 1625295490123,
     "user": {
      "displayName": "Leevi Kerkelä",
      "photoUrl": "",
      "userId": "10660873715021667163"
     },
     "user_tz": -180
    },
    "id": "cLj5TVd21nFS"
   },
   "outputs": [],
   "source": [
    "# Load b-values and b-vectors\n",
    "\n",
    "bvals = np.loadtxt(os.path.join(path, 'LTE-STE.bval'))[0:107] * 1e6\n",
    "bvecs = np.round(np.loadtxt(os.path.join(path, 'LTE-STE.bvec'))[:, 0:107], 4).T\n",
    "bvals[bvals == 0] = 1e-9\n",
    "bs = np.unique(bvals)\n",
    "bvals = np.concatenate([bvals, bvals])\n",
    "bvecs = np.concatenate([bvecs, bvecs], axis=0)\n",
    "lte_idx = np.arange(0, 107).astype(int)\n",
    "ste_idx = np.arange(107, 2 * 107).astype(int)\n",
    "lte_bvals = bvals[lte_idx]\n",
    "ste_bvals = bvals[ste_idx]"
   ]
  },
  {
   "cell_type": "markdown",
   "metadata": {
    "id": "iR-4DuKlqtyH"
   },
   "source": [
    "# Simulation 1"
   ]
  },
  {
   "cell_type": "code",
   "execution_count": null,
   "metadata": {
    "colab": {
     "base_uri": "https://localhost:8080/",
     "height": 513
    },
    "executionInfo": {
     "elapsed": 1461,
     "status": "ok",
     "timestamp": 1625295491560,
     "user": {
      "displayName": "Leevi Kerkelä",
      "photoUrl": "",
      "userId": "10660873715021667163"
     },
     "user_tz": -180
    },
    "id": "9VV1PQ9gB7Kp",
    "outputId": "e584383f-fb4f-4cf3-b4ac-8f34abce43ec"
   },
   "outputs": [],
   "source": [
    "# Define gradient waveform\n",
    "\n",
    "ste = np.loadtxt(os.path.join(path, 'waveform_STE.txt'))[np.newaxis, :, :]\n",
    "lte = np.loadtxt(os.path.join(path, 'waveform_LTE.txt'))[np.newaxis, :, :]\n",
    "plt.plot(lte[0])\n",
    "plt.show()\n",
    "plt.plot(ste[0])\n",
    "plt.show()\n",
    "\n",
    "\n",
    "# Create gradient array\n",
    "\n",
    "T = 80e-3\n",
    "n_t = int(1e4)\n",
    "gradient = np.concatenate(\n",
    "    [lte for i in range(107)] + [ste for i in range(107)], axis=0)\n",
    "dt = T / (gradient.shape[1] - 1)\n",
    "Rs = [utils.vec2vec_rotmat(np.array([1., 0, 0]), i) if np.linalg.norm(i) != 0 \n",
    "      else np.eye(3) for i in bvecs]\n",
    "gradient = gradients.rotate_gradient(gradient, Rs)\n",
    "gradient, dt = gradients.interpolate_gradient(gradient, dt, n_t)\n",
    "gradient = gradients.set_b(gradient, dt, bvals)"
   ]
  },
  {
   "cell_type": "code",
   "execution_count": null,
   "metadata": {
    "colab": {
     "base_uri": "https://localhost:8080/",
     "height": 404
    },
    "executionInfo": {
     "elapsed": 185734,
     "status": "ok",
     "timestamp": 1625295677280,
     "user": {
      "displayName": "Leevi Kerkelä",
      "photoUrl": "",
      "userId": "10660873715021667163"
     },
     "user_tz": -180
    },
    "id": "vcghu9XcW5ZI",
    "outputId": "976b383b-e8fa-42f9-e975-50a21b4e13b1"
   },
   "outputs": [],
   "source": [
    "# Show an example of diffusion in periodic fibres\n",
    "\n",
    "N = int(1e3)\n",
    "fibre_substrate = {'type' : 'mesh',\n",
    "                   'mesh' : mesh,\n",
    "                   'initial positions' : pos[0:N],\n",
    "                   'periodic' : True,\n",
    "                   'N_sv' : 50}\n",
    "\n",
    "signals = simulations.simulation(\n",
    "    N, diffusivity, gradient, dt, fibre_substrate, trajectories='traj.txt')\n",
    "\n",
    "trajectories = np.loadtxt('traj.txt')\n",
    "trajectories = trajectories.reshape(\n",
    "    (trajectories.shape[0], int(trajectories.shape[1] / 3), 3))\n",
    "\n",
    "from mpl_toolkits.mplot3d import Axes3D\n",
    "\n",
    "fig = plt.figure()\n",
    "ax = fig.add_subplot(111, projection='3d')\n",
    "for i in range(trajectories.shape[1]):\n",
    "    ax.plot(trajectories[:, i, 0],\n",
    "            trajectories[:, i, 1],\n",
    "            trajectories[:, i, 2],\n",
    "            alpha=.5)\n",
    "ax.set_xlabel('x')\n",
    "ax.set_ylabel('y')\n",
    "ax.set_zlabel('z')\n",
    "ax.set_xlim([-np.max(trajectories), np.max(trajectories)])\n",
    "ax.set_ylim([-np.max(trajectories), np.max(trajectories)])\n",
    "ax.set_zlim([-np.max(trajectories), np.max(trajectories)])\n",
    "ax.ticklabel_format(style='sci', scilimits=(0, 0))\n",
    "plt.show()"
   ]
  },
  {
   "cell_type": "code",
   "execution_count": null,
   "metadata": {
    "colab": {
     "background_save": true,
     "base_uri": "https://localhost:8080/"
    },
    "executionInfo": {
     "elapsed": 1613431,
     "status": "ok",
     "timestamp": 1625236606019,
     "user": {
      "displayName": "Leevi Kerkelä",
      "photoUrl": "",
      "userId": "10660873715021667163"
     },
     "user_tz": -180
    },
    "id": "HXs9SGXqX38i",
    "outputId": "c3650f79-4819-44b6-a354-b69a5b53d0b1"
   },
   "outputs": [],
   "source": [
    "# Run simulation with QTE (in three parts to reduce memory requirements)\n",
    "\n",
    "substrate = {'type' : 'mesh',\n",
    "             'mesh' : mesh,\n",
    "             'initial positions' : pos[0:int(1e6)],\n",
    "             'periodic' : True,\n",
    "             'N_sv' : 50}\n",
    "signals_1 = simulations.simulation(\n",
    "    int(1e6), diffusivity, gradient, dt, substrate, all_signals=True, seed=1)\n",
    "\n",
    "substrate = {'type' : 'mesh',\n",
    "             'mesh' : mesh,\n",
    "             'initial positions' : pos[int(1e6):int(2e6)],\n",
    "             'periodic' : True,\n",
    "             'N_sv' : 50}\n",
    "signals_2 = simulations.simulation(\n",
    "    int(1e6), diffusivity, gradient, dt, substrate, all_signals=True, seed=2)\n",
    "\n",
    "substrate = {'type' : 'mesh',\n",
    "             'mesh' : mesh,\n",
    "             'initial positions' : pos[int(2e6)::],\n",
    "             'periodic' : True,\n",
    "             'N_sv' : 50}\n",
    "signals_3 = simulations.simulation(\n",
    "    int(1e6), diffusivity, gradient, dt, substrate, all_signals=True, seed=3)\n",
    "\n",
    "np.save(os.path.join(path, 'simulated_signals_1.npy'),\n",
    "        np.hstack((signals_1, signals_2, signals_3)))"
   ]
  },
  {
   "cell_type": "code",
   "execution_count": null,
   "metadata": {
    "colab": {
     "base_uri": "https://localhost:8080/"
    },
    "executionInfo": {
     "elapsed": 9979959,
     "status": "ok",
     "timestamp": 1625305657203,
     "user": {
      "displayName": "Leevi Kerkelä",
      "photoUrl": "",
      "userId": "10660873715021667163"
     },
     "user_tz": -180
    },
    "id": "OItI8pa2Fny3",
    "outputId": "67f1ad0a-c6d8-4200-d82d-bb8679df6d13"
   },
   "outputs": [],
   "source": [
    "# Repeat simulation with different random number seeds to quantify variance\n",
    "\n",
    "\n",
    "for seed in [10, 20, 30, 40]:\n",
    "\n",
    "    substrate = {'type' : 'mesh',\n",
    "                'mesh' : mesh,\n",
    "                'initial positions' : pos[0:int(1e6)],\n",
    "                'periodic' : True,\n",
    "                'N_sv' : 50}\n",
    "    signals_1 = simulations.simulation(\n",
    "        int(1e6), diffusivity, gradient, dt, substrate, all_signals=True,\n",
    "        seed=seed + 1)\n",
    "\n",
    "    substrate = {'type' : 'mesh',\n",
    "                'mesh' : mesh,\n",
    "                'initial positions' : pos[int(1e6):int(2e6)],\n",
    "                'periodic' : True,\n",
    "                'N_sv' : 50}\n",
    "    signals_2 = simulations.simulation(\n",
    "        int(1e6), diffusivity, gradient, dt, substrate, all_signals=True,\n",
    "        seed=seed + 2)\n",
    "\n",
    "    substrate = {'type' : 'mesh',\n",
    "                'mesh' : mesh,\n",
    "                'initial positions' : pos[int(2e6)::],\n",
    "                'periodic' : True,\n",
    "                'N_sv' : 50}\n",
    "    signals_3 = simulations.simulation(\n",
    "        int(1e6), diffusivity, gradient, dt, substrate, all_signals=True,\n",
    "        seed=seed + 3)\n",
    "\n",
    "    np.save(os.path.join(path, 'simulated_signals_1_seed%s.npy' % seed),\n",
    "            np.hstack((signals_1, signals_2, signals_3)))"
   ]
  },
  {
   "cell_type": "markdown",
   "metadata": {
    "id": "muK9_MlwqxPM"
   },
   "source": [
    "# Simulation 2\n"
   ]
  },
  {
   "cell_type": "code",
   "execution_count": null,
   "metadata": {
    "colab": {
     "background_save": true,
     "base_uri": "https://localhost:8080/",
     "height": 513
    },
    "executionInfo": {
     "elapsed": 1192,
     "status": "ok",
     "timestamp": 1625236607219,
     "user": {
      "displayName": "Leevi Kerkelä",
      "photoUrl": "",
      "userId": "10660873715021667163"
     },
     "user_tz": -180
    },
    "id": "TKJa3qTdxYi5",
    "outputId": "1cf69212-c857-45fc-9345-76f8afaa7ba0"
   },
   "outputs": [],
   "source": [
    "# Define waveforms\n",
    "\n",
    "lte = np.loadtxt(os.path.join(path, 'waveform_LTE.txt'))\n",
    "n_zeros = 8\n",
    "ste = np.zeros((lte.shape[0] * 3 + n_zeros * 2, 3))\n",
    "ste[0:78, 0] = lte[:, 0] \n",
    "ste[78 + n_zeros:78 + n_zeros + 78, 1] = lte[:, 0] \n",
    "ste[78 + n_zeros + 78 + n_zeros::, 2] = lte[:, 0] \n",
    "ste = ste[np.newaxis, :, :]\n",
    "lte = np.copy(ste)\n",
    "lte[:, :, 1::] = 0\n",
    "plt.plot(lte[0])\n",
    "plt.show()\n",
    "plt.plot(ste[0])\n",
    "plt.show()\n",
    "\n",
    "\n",
    "# Create gradient array\n",
    "\n",
    "T = 256e-3\n",
    "n_t = 31720\n",
    "gradient = np.concatenate(\n",
    "    [lte for i in range(107)] + [ste for i in range(107)], axis=0)\n",
    "dt = T / (gradient.shape[1] - 1)\n",
    "Rs = [utils.vec2vec_rotmat(np.array([1., 0, 0]), i) if np.linalg.norm(i) != 0 \n",
    "      else np.eye(3) for i in bvecs]\n",
    "gradient = gradients.rotate_gradient(gradient, Rs)\n",
    "gradient, dt = gradients.interpolate_gradient(gradient, dt, n_t)\n",
    "gradient = gradients.set_b(gradient, dt, bvals)"
   ]
  },
  {
   "cell_type": "code",
   "execution_count": null,
   "metadata": {
    "colab": {
     "background_save": true,
     "base_uri": "https://localhost:8080/"
    },
    "id": "tTB3YLm2_-1V",
    "outputId": "c6ee9ff6-2892-4637-a368-0d6efb3968cf"
   },
   "outputs": [],
   "source": [
    "# Run simulation with TDE1\n",
    "\n",
    "substrate = {'type' : 'mesh',\n",
    "             'mesh' : mesh,\n",
    "             'initial positions' : pos[0:int(1e6)],\n",
    "             'periodic' : True,\n",
    "             'N_sv' : 50}\n",
    "signals_1 = simulations.simulation(\n",
    "    int(1e6), diffusivity, gradient, dt, substrate, all_signals=True, seed=1)\n",
    "\n",
    "substrate = {'type' : 'mesh',\n",
    "             'mesh' : mesh,\n",
    "             'initial positions' : pos[int(1e6):int(2e6)],\n",
    "             'periodic' : True,\n",
    "             'N_sv' : 50}\n",
    "signals_2 = simulations.simulation(\n",
    "    int(1e6), diffusivity, gradient, dt, substrate, all_signals=True, seed=2)\n",
    "\n",
    "substrate = {'type' : 'mesh',\n",
    "             'mesh' : mesh,\n",
    "             'initial positions' : pos[int(2e6)::],\n",
    "             'periodic' : True,\n",
    "             'N_sv' : 50}\n",
    "signals_3 = simulations.simulation(\n",
    "    int(1e6), diffusivity, gradient, dt, substrate, all_signals=True, seed=3)\n",
    "\n",
    "np.save(os.path.join(path, 'simulated_signals_2.npy'),\n",
    "        np.hstack((signals_1, signals_2, signals_3)))"
   ]
  },
  {
   "cell_type": "markdown",
   "metadata": {
    "id": "c2ZKM22itoMy"
   },
   "source": [
    "# Simulation 3"
   ]
  },
  {
   "cell_type": "code",
   "execution_count": null,
   "metadata": {
    "colab": {
     "background_save": true
    },
    "id": "0winq7rUtszU",
    "outputId": "bcc29158-739b-46c6-84ee-b70f71b790bd"
   },
   "outputs": [],
   "source": [
    "# Define waveforms\n",
    "\n",
    "lte = np.zeros((504, 3))\n",
    "lte[1:3, 0] = 1\n",
    "lte[101:103, 0] = -1\n",
    "lte[201:203, 0] = 1\n",
    "lte[301:303, 0] = -1\n",
    "lte[401:403, 0] = 1\n",
    "lte[501:503, 0] = -1\n",
    "lte = lte[np.newaxis, :, :]\n",
    "ste = np.zeros((504, 3))\n",
    "ste[1:3, 0] = 1\n",
    "ste[101:103, 0] = -1\n",
    "ste[201:203, 1] = 1\n",
    "ste[301:303, 1] = -1\n",
    "ste[401:403, 2] = 1\n",
    "ste[501:503, 2] = -1\n",
    "ste = ste[np.newaxis, :, :]\n",
    "plt.plot(lte[0])\n",
    "plt.show()\n",
    "plt.plot(ste[0])\n",
    "plt.show()\n",
    "\n",
    "\n",
    "# Create gradient array\n",
    "\n",
    "T = 503e-3\n",
    "n_t = 62195\n",
    "gradient = np.concatenate(\n",
    "    [lte for i in range(107)] + [ste for i in range(107)], axis=0)\n",
    "dt = T / (gradient.shape[1] - 1)\n",
    "Rs = [utils.vec2vec_rotmat(np.array([1., 0, 0]), i) if np.linalg.norm(i) != 0 \n",
    "      else np.eye(3) for i in bvecs]\n",
    "gradient = gradients.rotate_gradient(gradient, Rs)\n",
    "gradient, dt = gradients.interpolate_gradient(gradient, dt, n_t)\n",
    "gradient = gradients.set_b(gradient, dt, bvals)"
   ]
  },
  {
   "cell_type": "code",
   "execution_count": null,
   "metadata": {
    "colab": {
     "background_save": true
    },
    "id": "M9G2yvLU-ZTr",
    "outputId": "58d74c84-a6eb-4bfa-d6f4-392f099981c1"
   },
   "outputs": [],
   "source": [
    "# Run simulation with TDE2\n",
    "\n",
    "substrate = {'type' : 'mesh',\n",
    "             'mesh' : mesh,\n",
    "             'initial positions' : pos[0:int(7.5e5)],\n",
    "             'periodic' : True,\n",
    "             'N_sv' : 50}\n",
    "signals_1 = simulations.simulation(\n",
    "    int(7.5e5), diffusivity, gradient, dt, substrate, all_signals=True, seed=1)\n",
    "\n",
    "substrate = {'type' : 'mesh',\n",
    "             'mesh' : mesh,\n",
    "             'initial positions' : pos[int(7.5e5):int(15e5)],\n",
    "             'periodic' : True,\n",
    "             'N_sv' : 50}\n",
    "signals_2 = simulations.simulation(\n",
    "    int(7.5e5), diffusivity, gradient, dt, substrate, all_signals=True, seed=2)\n",
    "\n",
    "substrate = {'type' : 'mesh',\n",
    "             'mesh' : mesh,\n",
    "             'initial positions' : pos[int(15e5):int(22.5e5)],\n",
    "             'periodic' : True,\n",
    "             'N_sv' : 50}\n",
    "signals_3 = simulations.simulation(\n",
    "    int(7.5e5), diffusivity, gradient, dt, substrate, all_signals=True, seed=3)\n",
    "\n",
    "substrate = {'type' : 'mesh',\n",
    "             'mesh' : mesh,\n",
    "             'initial positions' : pos[int(22.5e5)::],\n",
    "             'periodic' : True,\n",
    "             'N_sv' : 50}\n",
    "signals_4 = simulations.simulation(\n",
    "    int(7.5e5), diffusivity, gradient, dt, substrate, all_signals=True, seed=4)\n",
    "\n",
    "\n",
    "np.save(os.path.join(path, 'simulated_signals_3.npy'),\n",
    "        np.hstack((signals_1, signals_2, signals_3, signals_4)))"
   ]
  }
 ],
 "metadata": {
  "accelerator": "GPU",
  "colab": {
   "collapsed_sections": [],
   "machine_shape": "hm",
   "name": "simulations.ipynb",
   "provenance": []
  },
  "kernelspec": {
   "display_name": "Python 3",
   "language": "python",
   "name": "python3"
  },
  "language_info": {
   "codemirror_mode": {
    "name": "ipython",
    "version": 3
   },
   "file_extension": ".py",
   "mimetype": "text/x-python",
   "name": "python",
   "nbconvert_exporter": "python",
   "pygments_lexer": "ipython3",
   "version": "3.7.6"
  }
 },
 "nbformat": 4,
 "nbformat_minor": 4
}
