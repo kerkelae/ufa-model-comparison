{
 "cells": [
  {
   "cell_type": "markdown",
   "metadata": {},
   "source": [
    "# Set up"
   ]
  },
  {
   "cell_type": "code",
   "execution_count": null,
   "metadata": {
    "colab": {
     "base_uri": "https://localhost:8080/"
    },
    "executionInfo": {
     "elapsed": 63515,
     "status": "ok",
     "timestamp": 1609766642364,
     "user": {
      "displayName": "Leevi Kerkelä",
      "photoUrl": "",
      "userId": "10660873715021667163"
     },
     "user_tz": 0
    },
    "id": "aW1cxsYzw-5I",
    "outputId": "f6e65774-9fe8-448a-a6f1-b444f8dba6b4"
   },
   "outputs": [],
   "source": [
    "# Install Disimpy\n",
    "\n",
    "!pip install git+https://github.com/kerkelae/disimpy.git@3595b1ebfe013ae7a4f15d84fa509dc46098b60c"
   ]
  },
  {
   "cell_type": "code",
   "execution_count": null,
   "metadata": {
    "executionInfo": {
     "elapsed": 64743,
     "status": "ok",
     "timestamp": 1609766643610,
     "user": {
      "displayName": "Leevi Kerkelä",
      "photoUrl": "",
      "userId": "10660873715021667163"
     },
     "user_tz": 0
    },
    "id": "ACY2J4XVxAe-"
   },
   "outputs": [],
   "source": [
    "# Import the required packages and modules\n",
    "\n",
    "import os\n",
    "import numpy as np\n",
    "import matplotlib.pyplot as plt\n",
    "\n",
    "from disimpy import gradients, meshes, simulations, utils"
   ]
  },
  {
   "cell_type": "code",
   "execution_count": null,
   "metadata": {
    "colab": {
     "base_uri": "https://localhost:8080/"
    },
    "executionInfo": {
     "elapsed": 63504,
     "status": "ok",
     "timestamp": 1609766642367,
     "user": {
      "displayName": "Leevi Kerkelä",
      "photoUrl": "",
      "userId": "10660873715021667163"
     },
     "user_tz": 0
    },
    "id": "EclQvKUp92wF",
    "outputId": "cb2428c1-3f86-4f7e-dcfb-42e678f95fce"
   },
   "outputs": [],
   "source": [
    "# Check the available GPU\n",
    "\n",
    "!nvidia-smi"
   ]
  },
  {
   "cell_type": "code",
   "execution_count": null,
   "metadata": {
    "colab": {
     "base_uri": "https://localhost:8080/"
    },
    "executionInfo": {
     "elapsed": 35508,
     "status": "ok",
     "timestamp": 1609766614342,
     "user": {
      "displayName": "Leevi Kerkelä",
      "photoUrl": "",
      "userId": "10660873715021667163"
     },
     "user_tz": 0
    },
    "id": "EajtV6bYqOgY",
    "outputId": "706a150b-633b-4c61-c54a-5cd4cf69b716"
   },
   "outputs": [],
   "source": [
    "# Mount Google Drive if using Google Colaboratory\n",
    "\n",
    "from google.colab import drive\n",
    "drive.mount('/content/drive')"
   ]
  },
  {
   "cell_type": "code",
   "execution_count": null,
   "metadata": {
    "executionInfo": {
     "elapsed": 99891,
     "status": "ok",
     "timestamp": 1609766678761,
     "user": {
      "displayName": "Leevi Kerkelä",
      "photoUrl": "",
      "userId": "10660873715021667163"
     },
     "user_tz": 0
    },
    "id": "uK27kgWvc7Gx"
   },
   "outputs": [],
   "source": [
    "# Define path and load synthetic axons\n",
    "\n",
    "path = '/content/drive/MyDrive/Colab Notebooks/qte-model-comparison/ConFiG'\n",
    "mesh = meshes.load_mesh(\n",
    "    os.path.join(path, 'cell_tissue_replicated_periodic.ply')) * 1e-6\n",
    "mesh_size = np.max(np.max(mesh, 0), 0)"
   ]
  },
  {
   "cell_type": "code",
   "execution_count": null,
   "metadata": {
    "executionInfo": {
     "elapsed": 406527,
     "status": "ok",
     "timestamp": 1609766985401,
     "user": {
      "displayName": "Leevi Kerkelä",
      "photoUrl": "",
      "userId": "10660873715021667163"
     },
     "user_tz": 0
    },
    "id": "kvupfRmxB9zZ"
   },
   "outputs": [],
   "source": [
    "# Load simulation initial positions\n",
    "\n",
    "n_s = int(6e5)\n",
    "pos = np.zeros((n_s, 3))\n",
    "for i in range(381):\n",
    "    f = i + 1\n",
    "    pos[int(i*1e3):int((i+1)*1e3), :] = np.loadtxt(\n",
    "        os.path.join(path, 'intra_init_pos_%s.txt' % f))\n",
    "pos[int(381e3)::, :] = np.loadtxt(os.path.join(path, 'extra_init_pos.txt'))"
   ]
  },
  {
   "cell_type": "markdown",
   "metadata": {
    "id": "iR-4DuKlqtyH"
   },
   "source": [
    "# Simulation 1"
   ]
  },
  {
   "cell_type": "code",
   "execution_count": null,
   "metadata": {
    "executionInfo": {
     "elapsed": 411974,
     "status": "ok",
     "timestamp": 1609766990851,
     "user": {
      "displayName": "Leevi Kerkelä",
      "photoUrl": "",
      "userId": "10660873715021667163"
     },
     "user_tz": 0
    },
    "id": "9VV1PQ9gB7Kp"
   },
   "outputs": [],
   "source": [
    "# Define simulation parameters\n",
    "\n",
    "n_s = int(6e5)\n",
    "n_t = int(1e4)\n",
    "diffusivity = 2e-9\n",
    "\n",
    "\n",
    "# Load bvals, bvecs, and gradient waveforms\n",
    "\n",
    "bvecs = (np.loadtxt(os.path.join(path, 'LTE-STE.bvec'))[:, 0:107]).T\n",
    "bvals = np.loadtxt(os.path.join(path, 'LTE-STE.bval'))[0:107] * 1e6\n",
    "ste = np.loadtxt(os.path.join(path, 'waveform_STE.txt'))[np.newaxis, :, :]\n",
    "lte = np.loadtxt(os.path.join(path, 'waveform_LTE.txt'))[np.newaxis, :, :]\n",
    "\n",
    "\n",
    "# Create gradient array\n",
    "\n",
    "bvals[bvals == 0] = 1e-9\n",
    "bs = np.unique(bvals)\n",
    "bvals = np.concatenate([bvals, bvals])\n",
    "bvecs = np.concatenate([bvecs, bvecs], axis=0)\n",
    "lte_idx = np.arange(0, 107).astype(int)\n",
    "ste_idx = np.arange(107, 2 * 107).astype(int)\n",
    "lte_bvals = bvals[lte_idx]\n",
    "ste_bvals = bvals[ste_idx]\n",
    "gradient = np.concatenate(\n",
    "    [lte for i in range(107)] + [ste for i in range(107)], axis=0)\n",
    "T = 80e-3\n",
    "dt = T / (gradient.shape[1] - 1)\n",
    "Rs = [utils.vec2vec_rotmat(np.array([1, 0, 0]), i) for i in bvecs]\n",
    "gradient = gradients.rotate_gradient(gradient, Rs)\n",
    "gradient, dt = gradients.interpolate_gradient(gradient, dt, n_t)\n",
    "gradient = gradients.set_b(gradient, dt, bvals)"
   ]
  },
  {
   "cell_type": "code",
   "execution_count": null,
   "metadata": {
    "colab": {
     "base_uri": "https://localhost:8080/"
    },
    "executionInfo": {
     "elapsed": 3221486,
     "status": "ok",
     "timestamp": 1609769800369,
     "user": {
      "displayName": "Leevi Kerkelä",
      "photoUrl": "",
      "userId": "10660873715021667163"
     },
     "user_tz": 0
    },
    "id": "AMDYiHT2_GJC",
    "outputId": "b31634c3-b96a-4710-efca-4eb8922fb78f"
   },
   "outputs": [],
   "source": [
    "# Run simulation with QTE\n",
    "\n",
    "substrate = {'type' : 'mesh',\n",
    "             'mesh' : mesh,\n",
    "             'initial positions' : pos,\n",
    "             'periodic' : True,\n",
    "             'N_sv' : 50}\n",
    "\n",
    "signals_1 = simulations.simulation(n_s, diffusivity, gradient, dt, substrate,\n",
    "                                   all_signals=True, seed=123456789)\n",
    "\n",
    "np.save(os.path.join(path, '../Preproc-data/simulated_signals_1.npy'),\n",
    "        signals_1)"
   ]
  },
  {
   "cell_type": "markdown",
   "metadata": {
    "id": "muK9_MlwqxPM"
   },
   "source": [
    "# Simulation 2\n"
   ]
  },
  {
   "cell_type": "code",
   "execution_count": null,
   "metadata": {
    "executionInfo": {
     "elapsed": 3223483,
     "status": "ok",
     "timestamp": 1609769802368,
     "user": {
      "displayName": "Leevi Kerkelä",
      "photoUrl": "",
      "userId": "10660873715021667163"
     },
     "user_tz": 0
    },
    "id": "TKJa3qTdxYi5"
   },
   "outputs": [],
   "source": [
    "# Define waveforms\n",
    "\n",
    "lte = np.loadtxt(os.path.join(path, 'waveform_LTE.txt'))\n",
    "n_zeros = 8\n",
    "ste = np.zeros((lte.shape[0] * 3 + n_zeros * 2, 3))\n",
    "ste[0:78, 0] = lte[:, 0] \n",
    "ste[78 + n_zeros:78 + n_zeros + 78, 1] = lte[:, 0] \n",
    "ste[78 + n_zeros + 78 + n_zeros::, 2] = lte[:, 0] \n",
    "T = 80e-3 * ste.shape[0] / lte.shape[0]\n",
    "n_t = int(1e4 * ste.shape[0] / lte.shape[0])\n",
    "ste = ste[np.newaxis, :, :]\n",
    "lte = np.copy(ste)\n",
    "lte[:, :, 1::] = 0\n",
    "\n",
    "\n",
    "# Create gradient array\n",
    "\n",
    "gradient = np.concatenate(\n",
    "    [lte for i in range(107)] + [ste for i in range(107)], axis=0)\n",
    "dt = T / (gradient.shape[1] - 1)\n",
    "Rs = [utils.vec2vec_rotmat(np.array([1, 0, 0]), i) for i in bvecs]\n",
    "gradient = gradients.rotate_gradient(gradient, Rs)\n",
    "gradient, dt = gradients.interpolate_gradient(gradient, dt, n_t)\n",
    "gradient = gradients.set_b(gradient, dt, bvals)"
   ]
  },
  {
   "cell_type": "code",
   "execution_count": null,
   "metadata": {
    "colab": {
     "base_uri": "https://localhost:8080/"
    },
    "id": "tTB3YLm2_-1V",
    "outputId": "8f85b029-a8a0-4a1d-dd79-6aa4151af91c"
   },
   "outputs": [],
   "source": [
    "# Run simulation with TDE1\n",
    "\n",
    "signals_2 = simulations.simulation(n_s, diffusivity, gradient, dt, substrate,\n",
    "                                   all_signals=True, seed=123456789)\n",
    "\n",
    "np.save(os.path.join(path, '../Preproc-data/simulated_ignals_2.npy'),\n",
    "        signals_2)"
   ]
  },
  {
   "cell_type": "markdown",
   "metadata": {
    "id": "c2ZKM22itoMy"
   },
   "source": [
    "# Simulation 3"
   ]
  },
  {
   "cell_type": "code",
   "execution_count": null,
   "metadata": {
    "id": "0winq7rUtszU"
   },
   "outputs": [],
   "source": [
    "# Define waveforms\n",
    "\n",
    "ste = np.zeros((504, 3))\n",
    "ste[1:3, 0] = 1\n",
    "ste[101:103, 0] = -1\n",
    "ste[201:203, 1] = 1\n",
    "ste[301:303, 1] = -1\n",
    "ste[401:403, 2] = 1\n",
    "ste[501:503, 2] = -1\n",
    "ste = ste[np.newaxis, :, :]\n",
    "lte = np.copy(ste)\n",
    "lte[:, :, 1::] = 0\n",
    "T = 503e-3\n",
    "n_t = int(1e4 * 503 / 80)\n",
    "\n",
    "\n",
    "# Create gradient array\n",
    "\n",
    "gradient = np.concatenate(\n",
    "    [lte for i in range(107)] + [ste for i in range(107)], axis=0)\n",
    "dt = T / (gradient.shape[1] - 1)\n",
    "Rs = [utils.vec2vec_rotmat(np.array([1, 0, 0]), i) for i in bvecs]\n",
    "gradient = gradients.rotate_gradient(gradient, Rs)\n",
    "gradient, dt = gradients.interpolate_gradient(gradient, dt, n_t)\n",
    "gradient = gradients.set_b(gradient, dt, bvals)"
   ]
  },
  {
   "cell_type": "code",
   "execution_count": null,
   "metadata": {
    "id": "M9G2yvLU-ZTr"
   },
   "outputs": [],
   "source": [
    "# Run simulation with TDE2\n",
    "\n",
    "signals_3 = simulations.simulation(n_s, diffusivity, gradient, dt, substrate,\n",
    "                                   all_signals=True, seed=123456789)\n",
    "\n",
    "np.save(os.path.join(path, '../Preproc-data/simulated_signals_3.npy'),\n",
    "        signals_3)"
   ]
  }
 ],
 "metadata": {
  "accelerator": "GPU",
  "colab": {
   "collapsed_sections": [],
   "name": "simulations.ipynb",
   "provenance": []
  },
  "kernelspec": {
   "display_name": "Python 3",
   "language": "python",
   "name": "python3"
  },
  "language_info": {
   "codemirror_mode": {
    "name": "ipython",
    "version": 3
   },
   "file_extension": ".py",
   "mimetype": "text/x-python",
   "name": "python",
   "nbconvert_exporter": "python",
   "pygments_lexer": "ipython3",
   "version": "3.7.3"
  }
 },
 "nbformat": 4,
 "nbformat_minor": 4
}
