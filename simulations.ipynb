{
 "cells": [
  {
   "cell_type": "markdown",
   "metadata": {
    "id": "APmn0RPrIX16"
   },
   "source": [
    "# Set up"
   ]
  },
  {
   "cell_type": "code",
   "execution_count": null,
   "metadata": {
    "colab": {
     "base_uri": "https://localhost:8080/"
    },
    "executionInfo": {
     "elapsed": 22624,
     "status": "ok",
     "timestamp": 1611564019861,
     "user": {
      "displayName": "Leevi Kerkelä",
      "photoUrl": "",
      "userId": "10660873715021667163"
     },
     "user_tz": 0
    },
    "id": "aW1cxsYzw-5I",
    "outputId": "94bff5f7-e171-4635-e799-2e3fc83aba8b"
   },
   "outputs": [],
   "source": [
    "# Install Disimpy\n",
    "\n",
    "!pip install git+https://github.com/kerkelae/disimpy.git@3595b1ebfe013ae7a4f15d84fa509dc46098b60c"
   ]
  },
  {
   "cell_type": "code",
   "execution_count": null,
   "metadata": {
    "executionInfo": {
     "elapsed": 22687,
     "status": "ok",
     "timestamp": 1611564020503,
     "user": {
      "displayName": "Leevi Kerkelä",
      "photoUrl": "",
      "userId": "10660873715021667163"
     },
     "user_tz": 0
    },
    "id": "ACY2J4XVxAe-"
   },
   "outputs": [],
   "source": [
    "# Import the required packages and modules\n",
    "\n",
    "import os\n",
    "import numpy as np\n",
    "import matplotlib.pyplot as plt\n",
    "\n",
    "from disimpy import gradients, meshes, simulations, utils"
   ]
  },
  {
   "cell_type": "code",
   "execution_count": null,
   "metadata": {
    "colab": {
     "base_uri": "https://localhost:8080/"
    },
    "executionInfo": {
     "elapsed": 21768,
     "status": "ok",
     "timestamp": 1611564020507,
     "user": {
      "displayName": "Leevi Kerkelä",
      "photoUrl": "",
      "userId": "10660873715021667163"
     },
     "user_tz": 0
    },
    "id": "EclQvKUp92wF",
    "outputId": "71bf2e6e-bc15-488e-b033-680ca93f6265"
   },
   "outputs": [],
   "source": [
    "# Check the available GPU\n",
    "\n",
    "!nvidia-smi"
   ]
  },
  {
   "cell_type": "code",
   "execution_count": null,
   "metadata": {
    "colab": {
     "base_uri": "https://localhost:8080/"
    },
    "executionInfo": {
     "elapsed": 100187,
     "status": "ok",
     "timestamp": 1611564099864,
     "user": {
      "displayName": "Leevi Kerkelä",
      "photoUrl": "",
      "userId": "10660873715021667163"
     },
     "user_tz": 0
    },
    "id": "EajtV6bYqOgY",
    "outputId": "5c5a6449-5771-4c7a-a469-a18a081f6e04"
   },
   "outputs": [],
   "source": [
    "# Mount Google Drive if using Google Colaboratory\n",
    "\n",
    "from google.colab import drive\n",
    "drive.mount('/content/drive')"
   ]
  },
  {
   "cell_type": "code",
   "execution_count": null,
   "metadata": {
    "colab": {
     "base_uri": "https://localhost:8080/"
    },
    "executionInfo": {
     "elapsed": 125805,
     "status": "ok",
     "timestamp": 1611564126749,
     "user": {
      "displayName": "Leevi Kerkelä",
      "photoUrl": "",
      "userId": "10660873715021667163"
     },
     "user_tz": 0
    },
    "id": "uK27kgWvc7Gx",
    "outputId": "79b3794c-c80c-44b7-c00b-0cf2ac2400e0"
   },
   "outputs": [],
   "source": [
    "# Define path and load synthetic axons\n",
    "\n",
    "path = '/content/drive/MyDrive/ufa-model-comparison/ConFiG'\n",
    "mesh = meshes.load_mesh(\n",
    "    os.path.join(path, 'cell_tissue_replicated_periodic.ply')) * 1e-6\n",
    "mesh_size = np.max(np.max(mesh, 0), 0)\n",
    "print(mesh_size)"
   ]
  },
  {
   "cell_type": "code",
   "execution_count": null,
   "metadata": {
    "executionInfo": {
     "elapsed": 137747,
     "status": "ok",
     "timestamp": 1611564240054,
     "user": {
      "displayName": "Leevi Kerkelä",
      "photoUrl": "",
      "userId": "10660873715021667163"
     },
     "user_tz": 0
    },
    "id": "kvupfRmxB9zZ"
   },
   "outputs": [],
   "source": [
    "# Load simulation initial positions\n",
    "\n",
    "n_s = int(6e5)\n",
    "pos = np.zeros((n_s, 3))\n",
    "for i in range(381):\n",
    "    f = i + 1\n",
    "    pos[int(i*1e3):int((i+1)*1e3), :] = np.loadtxt(\n",
    "        os.path.join(path, 'intra_init_pos_%s.txt' % f))\n",
    "pos[int(381e3)::, :] = np.loadtxt(os.path.join(path, 'extra_init_pos.txt'))"
   ]
  },
  {
   "cell_type": "code",
   "execution_count": null,
   "metadata": {
    "executionInfo": {
     "elapsed": 137374,
     "status": "ok",
     "timestamp": 1611564240060,
     "user": {
      "displayName": "Leevi Kerkelä",
      "photoUrl": "",
      "userId": "10660873715021667163"
     },
     "user_tz": 0
    },
    "id": "oJ6eKBZ_yqNS"
   },
   "outputs": [],
   "source": [
    "# Define simulated substrate\n",
    "\n",
    "substrate = {'type' : 'mesh',\n",
    "             'mesh' : mesh,\n",
    "             'initial positions' : pos,\n",
    "             'periodic' : True,\n",
    "             'N_sv' : 50}"
   ]
  },
  {
   "cell_type": "code",
   "execution_count": null,
   "metadata": {
    "executionInfo": {
     "elapsed": 137057,
     "status": "ok",
     "timestamp": 1611564240061,
     "user": {
      "displayName": "Leevi Kerkelä",
      "photoUrl": "",
      "userId": "10660873715021667163"
     },
     "user_tz": 0
    },
    "id": "RCQSgNZOKyp9"
   },
   "outputs": [],
   "source": [
    "# Define simulation parameters\n",
    "\n",
    "n_s = int(6e5)\n",
    "diffusivity = 2e-9"
   ]
  },
  {
   "cell_type": "code",
   "execution_count": null,
   "metadata": {
    "id": "cLj5TVd21nFS"
   },
   "outputs": [],
   "source": [
    "# Load b-values and b-vectors\n",
    "\n",
    "bvals = np.loadtxt(os.path.join(path, 'LTE-STE.bval'))[0:107] * 1e6\n",
    "bvecs = np.round(np.loadtxt(os.path.join(path, 'LTE-STE.bvec'))[:, 0:107], 4).T\n",
    "bvals[bvals == 0] = 1e-9\n",
    "bs = np.unique(bvals)\n",
    "bvals = np.concatenate([bvals, bvals])\n",
    "bvecs = np.concatenate([bvecs, bvecs], axis=0)\n",
    "lte_idx = np.arange(0, 107).astype(int)\n",
    "ste_idx = np.arange(107, 2 * 107).astype(int)\n",
    "lte_bvals = bvals[lte_idx]\n",
    "ste_bvals = bvals[ste_idx]"
   ]
  },
  {
   "cell_type": "markdown",
   "metadata": {
    "id": "iR-4DuKlqtyH"
   },
   "source": [
    "# Simulation 1"
   ]
  },
  {
   "cell_type": "code",
   "execution_count": null,
   "metadata": {
    "colab": {
     "base_uri": "https://localhost:8080/",
     "height": 513
    },
    "executionInfo": {
     "elapsed": 128311,
     "status": "ok",
     "timestamp": 1611564241607,
     "user": {
      "displayName": "Leevi Kerkelä",
      "photoUrl": "",
      "userId": "10660873715021667163"
     },
     "user_tz": 0
    },
    "id": "9VV1PQ9gB7Kp",
    "outputId": "3b037c52-19c7-4899-c977-b6b48ca8e514"
   },
   "outputs": [],
   "source": [
    "# Define gradient waveform\n",
    "\n",
    "ste = np.loadtxt(os.path.join(path, 'waveform_STE.txt'))[np.newaxis, :, :]\n",
    "lte = np.loadtxt(os.path.join(path, 'waveform_LTE.txt'))[np.newaxis, :, :]\n",
    "plt.plot(lte[0])\n",
    "plt.show()\n",
    "plt.plot(ste[0])\n",
    "plt.show()\n",
    "\n",
    "\n",
    "# Create gradient array\n",
    "\n",
    "T = 80e-3\n",
    "n_t = int(1e4)\n",
    "gradient = np.concatenate(\n",
    "    [lte for i in range(107)] + [ste for i in range(107)], axis=0)\n",
    "dt = T / (gradient.shape[1] - 1)\n",
    "Rs = [utils.vec2vec_rotmat(np.array([1., 0, 0]), i) for i in bvecs]\n",
    "gradient = gradients.rotate_gradient(gradient, Rs)\n",
    "gradient, dt = gradients.interpolate_gradient(gradient, dt, n_t)\n",
    "gradient = gradients.set_b(gradient, dt, bvals)"
   ]
  },
  {
   "cell_type": "code",
   "execution_count": null,
   "metadata": {
    "colab": {
     "base_uri": "https://localhost:8080/"
    },
    "executionInfo": {
     "elapsed": 2819269,
     "status": "ok",
     "timestamp": 1611517227332,
     "user": {
      "displayName": "Leevi Kerkelä",
      "photoUrl": "",
      "userId": "10660873715021667163"
     },
     "user_tz": 0
    },
    "id": "HXs9SGXqX38i",
    "outputId": "1183a800-74e0-4d84-ae91-a35d87842135"
   },
   "outputs": [],
   "source": [
    "# Run simulation with QTE\n",
    "\n",
    "signals_1 = simulations.simulation(n_s, diffusivity, gradient, dt, substrate,\n",
    "                                   all_signals=True, seed=123456789)\n",
    "np.save('../Preproc-data/simulated_signals_1.npy', signals_1)"
   ]
  },
  {
   "cell_type": "markdown",
   "metadata": {
    "id": "muK9_MlwqxPM"
   },
   "source": [
    "# Simulation 2\n"
   ]
  },
  {
   "cell_type": "code",
   "execution_count": null,
   "metadata": {
    "colab": {
     "base_uri": "https://localhost:8080/",
     "height": 513
    },
    "executionInfo": {
     "elapsed": 124803,
     "status": "ok",
     "timestamp": 1611564242807,
     "user": {
      "displayName": "Leevi Kerkelä",
      "photoUrl": "",
      "userId": "10660873715021667163"
     },
     "user_tz": 0
    },
    "id": "TKJa3qTdxYi5",
    "outputId": "760c2c83-5629-414b-e536-cedca1f6dd60"
   },
   "outputs": [],
   "source": [
    "# Define waveforms\n",
    "\n",
    "lte = np.loadtxt(os.path.join(path, 'waveform_LTE.txt'))\n",
    "n_zeros = 8\n",
    "ste = np.zeros((lte.shape[0] * 3 + n_zeros * 2, 3))\n",
    "ste[0:78, 0] = lte[:, 0] \n",
    "ste[78 + n_zeros:78 + n_zeros + 78, 1] = lte[:, 0] \n",
    "ste[78 + n_zeros + 78 + n_zeros::, 2] = lte[:, 0] \n",
    "ste = ste[np.newaxis, :, :]\n",
    "lte = np.copy(ste)\n",
    "lte[:, :, 1::] = 0\n",
    "plt.plot(lte[0])\n",
    "plt.show()\n",
    "plt.plot(ste[0])\n",
    "plt.show()\n",
    "\n",
    "\n",
    "# Create gradient array\n",
    "\n",
    "T = 256e-3\n",
    "n_t = 31998\n",
    "gradient = np.concatenate(\n",
    "    [lte for i in range(107)] + [ste for i in range(107)], axis=0)\n",
    "dt = T / (gradient.shape[1] - 1)\n",
    "Rs = [utils.vec2vec_rotmat(np.array([1, 0, 0]), i) for i in bvecs]\n",
    "gradient = gradients.rotate_gradient(gradient, Rs)\n",
    "gradient, dt = gradients.interpolate_gradient(gradient, dt, n_t)\n",
    "gradient = gradients.set_b(gradient, dt, bvals)"
   ]
  },
  {
   "cell_type": "code",
   "execution_count": null,
   "metadata": {
    "colab": {
     "base_uri": "https://localhost:8080/"
    },
    "executionInfo": {
     "elapsed": 11483366,
     "status": "ok",
     "timestamp": 1611525891450,
     "user": {
      "displayName": "Leevi Kerkelä",
      "photoUrl": "",
      "userId": "10660873715021667163"
     },
     "user_tz": 0
    },
    "id": "tTB3YLm2_-1V",
    "outputId": "2bc1ebe5-90c7-43f5-edf0-ae025f06b47a"
   },
   "outputs": [],
   "source": [
    "# Run simulation with TDE1\n",
    "\n",
    "signals_2 = simulations.simulation(n_s, diffusivity, gradient, dt, substrate,\n",
    "                                   all_signals=True, seed=123456789)\n",
    "np.save('../Preproc-data/simulated_signals_2.npy', signals_2)"
   ]
  },
  {
   "cell_type": "markdown",
   "metadata": {
    "id": "c2ZKM22itoMy"
   },
   "source": [
    "# Simulation 3"
   ]
  },
  {
   "cell_type": "code",
   "execution_count": null,
   "metadata": {
    "colab": {
     "base_uri": "https://localhost:8080/",
     "height": 513
    },
    "executionInfo": {
     "elapsed": 2398,
     "status": "ok",
     "timestamp": 1611564245218,
     "user": {
      "displayName": "Leevi Kerkelä",
      "photoUrl": "",
      "userId": "10660873715021667163"
     },
     "user_tz": 0
    },
    "id": "0winq7rUtszU",
    "outputId": "3e97f60d-67af-4dc1-b051-75d200c272fd"
   },
   "outputs": [],
   "source": [
    "# Define waveforms\n",
    "\n",
    "lte = np.zeros((504, 3))\n",
    "lte[1:3, 0] = 1\n",
    "lte[101:103, 0] = -1\n",
    "lte[201:203, 0] = 1\n",
    "lte[301:303, 0] = -1\n",
    "lte[401:403, 0] = 1\n",
    "lte[501:503, 0] = -1\n",
    "lte = lte[np.newaxis, :, :]\n",
    "ste = np.zeros((504, 3))\n",
    "ste[1:3, 0] = 1\n",
    "ste[101:103, 0] = -1\n",
    "ste[201:203, 1] = 1\n",
    "ste[301:303, 1] = -1\n",
    "ste[401:403, 2] = 1\n",
    "ste[501:503, 2] = -1\n",
    "ste = ste[np.newaxis, :, :]\n",
    "plt.plot(lte[0])\n",
    "plt.show()\n",
    "plt.plot(ste[0])\n",
    "plt.show()\n",
    "\n",
    "\n",
    "# Create gradient array\n",
    "\n",
    "T = 503e-3\n",
    "n_t = 62869\n",
    "gradient = np.concatenate(\n",
    "    [lte for i in range(107)] + [ste for i in range(107)], axis=0)\n",
    "dt = T / (gradient.shape[1] - 1)\n",
    "Rs = [utils.vec2vec_rotmat(np.array([1, 0, 0]), i) for i in bvecs]\n",
    "gradient = gradients.rotate_gradient(gradient, Rs)\n",
    "gradient, dt = gradients.interpolate_gradient(gradient, dt, n_t)\n",
    "gradient = gradients.set_b(gradient, dt, bvals)"
   ]
  },
  {
   "cell_type": "code",
   "execution_count": null,
   "metadata": {
    "colab": {
     "base_uri": "https://localhost:8080/"
    },
    "executionInfo": {
     "elapsed": 15641280,
     "status": "ok",
     "timestamp": 1611579884109,
     "user": {
      "displayName": "Leevi Kerkelä",
      "photoUrl": "",
      "userId": "10660873715021667163"
     },
     "user_tz": 0
    },
    "id": "M9G2yvLU-ZTr",
    "outputId": "b7b2c00d-1ac9-4acd-8736-08834ba74d22"
   },
   "outputs": [],
   "source": [
    "# Run simulation with TDE2\n",
    "\n",
    "signals_3 = simulations.simulation(n_s, diffusivity, gradient, dt, substrate,\n",
    "                                   all_signals=True, seed=123456789)\n",
    "np.save('../Preproc-data/simulated_signals_3.npy', signals_3)"
   ]
  }
 ],
 "metadata": {
  "accelerator": "GPU",
  "colab": {
   "collapsed_sections": [],
   "name": "simulations.ipynb",
   "provenance": []
  },
  "kernelspec": {
   "display_name": "Python 3",
   "language": "python",
   "name": "python3"
  },
  "language_info": {
   "codemirror_mode": {
    "name": "ipython",
    "version": 3
   },
   "file_extension": ".py",
   "mimetype": "text/x-python",
   "name": "python",
   "nbconvert_exporter": "python",
   "pygments_lexer": "ipython3",
   "version": "3.7.3"
  }
 },
 "nbformat": 4,
 "nbformat_minor": 4
}
